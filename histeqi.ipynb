{
 "cells": [
  {
   "cell_type": "code",
   "execution_count": 1,
   "id": "da8c326e-50e3-410d-8192-eee097faa6cb",
   "metadata": {},
   "outputs": [
    {
     "name": "stdout",
     "output_type": "stream",
     "text": [
      "Requirement already satisfied: opencv-python in c:\\users\\admin\\anaconda3\\lib\\site-packages (4.5.2.52)\n",
      "Requirement already satisfied: numpy>=1.17.3 in c:\\users\\admin\\appdata\\roaming\\python\\python38\\site-packages (from opencv-python) (1.19.5)\n"
     ]
    }
   ],
   "source": [
    "!pip3 install opencv-python"
   ]
  },
  {
   "cell_type": "code",
   "execution_count": 10,
   "id": "3a8121b2-1c5e-4130-9f9e-e0110b7f70f4",
   "metadata": {},
   "outputs": [
    {
     "data": {
      "text/plain": [
       "(array([8.57900e+03, 4.94500e+03, 7.70000e+03, 7.60000e+01, 6.00000e+01,\n",
       "        9.80000e+01, 1.12000e+02, 1.13000e+02, 2.55000e+02, 4.04000e+02,\n",
       "        3.58000e+02, 2.50400e+03, 8.20000e+01, 7.10000e+01, 6.90000e+01,\n",
       "        6.20000e+01, 1.77000e+02, 9.70000e+01, 2.31000e+02, 1.78400e+03,\n",
       "        1.62819e+05, 1.67126e+05, 1.41910e+04, 1.44800e+04, 1.50670e+04,\n",
       "        1.44730e+04, 1.26890e+04, 1.18790e+04, 1.35920e+04, 1.35190e+04,\n",
       "        1.64570e+04, 1.56520e+04, 1.62480e+04, 1.33940e+04, 1.71970e+04,\n",
       "        1.72380e+04, 1.58400e+04, 2.10260e+04, 1.90270e+04, 1.55210e+04,\n",
       "        6.55980e+04, 3.57500e+03, 2.68200e+03, 2.63300e+03, 2.36500e+03,\n",
       "        5.70860e+04, 1.52160e+04, 1.08140e+04, 1.41360e+04, 1.75810e+04]),\n",
       " array([  0. ,   5.1,  10.2,  15.3,  20.4,  25.5,  30.6,  35.7,  40.8,\n",
       "         45.9,  51. ,  56.1,  61.2,  66.3,  71.4,  76.5,  81.6,  86.7,\n",
       "         91.8,  96.9, 102. , 107.1, 112.2, 117.3, 122.4, 127.5, 132.6,\n",
       "        137.7, 142.8, 147.9, 153. , 158.1, 163.2, 168.3, 173.4, 178.5,\n",
       "        183.6, 188.7, 193.8, 198.9, 204. , 209.1, 214.2, 219.3, 224.4,\n",
       "        229.5, 234.6, 239.7, 244.8, 249.9, 255. ]),\n",
       " <BarContainer object of 50 artists>)"
      ]
     },
     "execution_count": 10,
     "metadata": {},
     "output_type": "execute_result"
    },
    {
     "data": {
      "image/png": "[encoded data removed]",
      "text/plain": [
       "<Figure size 432x288 with 1 Axes>"
      ]
     },
     "metadata": {
      "needs_background": "light"
     },
     "output_type": "display_data"
    }
   ],
   "source": [
    "import cv2\n",
    "from matplotlib import pyplot as plt\n",
    "import numpy as np\n",
    "  \n",
    "img = cv2.imread(r\"C:\\Users\\admin\\Downloads\\kuva.png\", 0)\n",
    "  \n",
    "equ = cv2.equalizeHist(img)\n",
    "  \n",
    "res = np.hstack((img, equ))\n",
    "  \n",
    "cv2.imshow('image', res)\n",
    "  \n",
    "cv2.waitKey(0)\n",
    "cv2.destroyAllWindows()\n",
    "\n",
    "img1 = np.asarray(res)\n",
    "\n",
    "flat = img1.flatten()\n",
    "\n",
    "plt.hist(flat, bins=50)"
   ]
  },
  {
   "cell_type": "code",
   "execution_count": 7,
   "id": "051f1603-a444-4f15-9d3e-bbedc6a690c9",
   "metadata": {},
   "outputs": [
    {
     "ename": "AttributeError",
     "evalue": "'numpy.ndarray' object has no attribute 'getdata'",
     "output_type": "error",
     "traceback": [
      "\u001b[1;31m---------------------------------------------------------------------------\u001b[0m",
      "\u001b[1;31mAttributeError\u001b[0m                            Traceback (most recent call last)",
      "\u001b[1;32m<ipython-input-7-4142e5b3ba80>\u001b[0m in \u001b[0;36m<module>\u001b[1;34m\u001b[0m\n\u001b[1;32m----> 1\u001b[1;33m \u001b[0mpxl\u001b[0m\u001b[1;33m=\u001b[0m\u001b[0mlist\u001b[0m\u001b[1;33m(\u001b[0m\u001b[0mimg\u001b[0m\u001b[1;33m.\u001b[0m\u001b[0mgetdata\u001b[0m\u001b[1;33m(\u001b[0m\u001b[1;33m)\u001b[0m\u001b[1;33m)\u001b[0m\u001b[1;33m\u001b[0m\u001b[1;33m\u001b[0m\u001b[0m\n\u001b[0m\u001b[0;32m      2\u001b[0m \u001b[0mprint\u001b[0m\u001b[1;33m(\u001b[0m\u001b[0mpxl\u001b[0m\u001b[1;33m)\u001b[0m\u001b[1;33m\u001b[0m\u001b[1;33m\u001b[0m\u001b[0m\n\u001b[0;32m      3\u001b[0m \u001b[0mcolumnsize\u001b[0m\u001b[1;33m,\u001b[0m\u001b[0mrowsize\u001b[0m\u001b[1;33m=\u001b[0m\u001b[0mimg\u001b[0m\u001b[1;33m.\u001b[0m\u001b[0msize\u001b[0m\u001b[1;33m\u001b[0m\u001b[1;33m\u001b[0m\u001b[0m\n\u001b[0;32m      4\u001b[0m \u001b[1;33m\u001b[0m\u001b[0m\n\u001b[0;32m      5\u001b[0m \u001b[0ma\u001b[0m \u001b[1;33m=\u001b[0m \u001b[0mnp\u001b[0m\u001b[1;33m.\u001b[0m\u001b[0marray\u001b[0m\u001b[1;33m(\u001b[0m\u001b[0mpxl\u001b[0m\u001b[1;33m)\u001b[0m\u001b[1;33m\u001b[0m\u001b[1;33m\u001b[0m\u001b[0m\n",
      "\u001b[1;31mAttributeError\u001b[0m: 'numpy.ndarray' object has no attribute 'getdata'"
     ]
    }
   ],
   "source": []
  },
  {
   "cell_type": "code",
   "execution_count": null,
   "id": "9677876c-dc69-4085-9c51-308832c9e923",
   "metadata": {},
   "outputs": [],
   "source": []
  }
 ],
 "metadata": {
  "kernelspec": {
   "display_name": "Python 3",
   "language": "python",
   "name": "python3"
  },
  "language_info": {
   "codemirror_mode": {
    "name": "ipython",
    "version": 3
   },
   "file_extension": ".py",
   "mimetype": "text/x-python",
   "name": "python",
   "nbconvert_exporter": "python",
   "pygments_lexer": "ipython3",
   "version": "3.8.8"
  }
 },
 "nbformat": 4,
 "nbformat_minor": 5
}
