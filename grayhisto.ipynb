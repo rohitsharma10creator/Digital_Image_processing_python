{
 "cells": [
  {
   "cell_type": "code",
   "execution_count": 1,
   "id": "a2189645-7c9f-4698-9737-d448a2a04f85",
   "metadata": {},
   "outputs": [
    {
     "data": {
      "text/plain": [
       "(array([9.7000e+01, 1.3300e+02, 1.1800e+02, 6.8000e+01, 6.2000e+01,\n",
       "        1.1500e+02, 1.0400e+02, 1.3300e+02, 3.5600e+02, 3.4300e+02,\n",
       "        2.6420e+03, 1.3900e+02, 7.9000e+01, 7.2000e+01, 6.7000e+01,\n",
       "        7.0000e+01, 2.0000e+02, 1.2100e+02, 4.1700e+02, 2.8890e+03,\n",
       "        1.0310e+04, 1.5811e+05, 5.8850e+03, 7.1680e+03, 6.0400e+03,\n",
       "        6.7850e+03, 4.8700e+03, 4.6360e+03, 4.6480e+03, 4.5250e+03,\n",
       "        5.9050e+03, 7.5970e+03, 7.9590e+03, 9.7400e+03, 8.2880e+03,\n",
       "        6.9020e+03, 1.0142e+04, 1.1228e+04, 1.1105e+04, 1.1286e+04,\n",
       "        1.6021e+04, 5.1173e+04, 2.7930e+03, 2.5850e+03, 2.5030e+03,\n",
       "        2.4530e+03, 7.3390e+03, 2.3610e+03, 6.2470e+03, 8.6200e+03]),\n",
       " array([  2.  ,   7.06,  12.12,  17.18,  22.24,  27.3 ,  32.36,  37.42,\n",
       "         42.48,  47.54,  52.6 ,  57.66,  62.72,  67.78,  72.84,  77.9 ,\n",
       "         82.96,  88.02,  93.08,  98.14, 103.2 , 108.26, 113.32, 118.38,\n",
       "        123.44, 128.5 , 133.56, 138.62, 143.68, 148.74, 153.8 , 158.86,\n",
       "        163.92, 168.98, 174.04, 179.1 , 184.16, 189.22, 194.28, 199.34,\n",
       "        204.4 , 209.46, 214.52, 219.58, 224.64, 229.7 , 234.76, 239.82,\n",
       "        244.88, 249.94, 255.  ]),\n",
       " <BarContainer object of 50 artists>)"
      ]
     },
     "execution_count": 1,
     "metadata": {},
     "output_type": "execute_result"
    },
    {
     "data": {
      "image/png": "[encoded data removed]",
      "text/plain": [
       "<Figure size 432x288 with 1 Axes>"
      ]
     },
     "metadata": {
      "needs_background": "light"
     },
     "output_type": "display_data"
    }
   ],
   "source": [
    "from PIL import Image, ImageOps\n",
    "from matplotlib import pyplot as plt \n",
    "import numpy as np\n",
    "im1=Image.open(r\"C:\\Users\\admin\\Downloads\\kuva.png\")\n",
    "imgray=im1.convert('L')\n",
    "imgray.show()\n",
    "\n",
    "img1 = np.asarray(imgray)\n",
    "flat = img1.flatten()\n",
    "plt.hist(flat, bins=50)"
   ]
  },
  {
   "cell_type": "code",
   "execution_count": null,
   "id": "9a7612e2-a5ca-4f29-a7bf-3a4bdd41b19e",
   "metadata": {},
   "outputs": [],
   "source": []
  }
 ],
 "metadata": {
  "kernelspec": {
   "display_name": "Python 3",
   "language": "python",
   "name": "python3"
  },
  "language_info": {
   "codemirror_mode": {
    "name": "ipython",
    "version": 3
   },
   "file_extension": ".py",
   "mimetype": "text/x-python",
   "name": "python",
   "nbconvert_exporter": "python",
   "pygments_lexer": "ipython3",
   "version": "3.8.8"
  }
 },
 "nbformat": 4,
 "nbformat_minor": 5
}
